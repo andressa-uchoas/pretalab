{
  "nbformat": 4,
  "nbformat_minor": 0,
  "metadata": {
    "colab": {
      "provenance": [],
      "authorship_tag": "ABX9TyP4fZNC+zQ9Uh4vvHHXiOzG",
      "include_colab_link": true
    },
    "kernelspec": {
      "name": "python3",
      "display_name": "Python 3"
    },
    "language_info": {
      "name": "python"
    }
  },
  "cells": [
    {
      "cell_type": "markdown",
      "metadata": {
        "id": "view-in-github",
        "colab_type": "text"
      },
      "source": [
        "<a href=\"https://colab.research.google.com/github/andressa-uchoas/pretalab/blob/main/andressa_uchoas_exercicio_final.ipynb\" target=\"_parent\"><img src=\"https://colab.research.google.com/assets/colab-badge.svg\" alt=\"Open In Colab\"/></a>"
      ]
    },
    {
      "cell_type": "code",
      "execution_count": null,
      "metadata": {
        "id": "ytNDexrO5aU7"
      },
      "outputs": [],
      "source": [
        "#Contagem de medalhas\n",
        "#Criar um programa que receba o número de medalhas de ouro, prata e bronze de um país nas Olimpíadas e calcule o total de medalhas.\n",
        "#Quando escrever 'sair', o programa deverá encerrar e mostrar na tela o ranking de medalhas no formato:\n",
        "#Ranking de medalhas:\n",
        "#Brasil: 7 medalhas\n",
        "#França: 6 medalhas\n",
        "#Argentina: 3 medalhas"
      ]
    },
    {
      "cell_type": "code",
      "source": [
        "#Resposta aqui:\n",
        "\n",
        "continuar = True\n",
        "medalhas = {}\n",
        "\n",
        "while continuar:\n",
        "    nome_pais = input('Insira o nome do país ou \"sair\" para encerrar: ').strip()\n",
        "\n",
        "    if nome_pais.lower() == 'sair':\n",
        "        continuar = False\n",
        "    else:\n",
        "        while True:\n",
        "            try:\n",
        "                numero_medalha_ouro = int(input('Quantas medalhas de ouro? '))\n",
        "                numero_medalha_prata = int(input('Quantas medalhas de prata? '))\n",
        "                numero_medalha_bronze = int(input('Quantas medalhas de bronze? '))\n",
        "                break\n",
        "            except ValueError:\n",
        "                print(\"Por favor, insira um número inteiro válido.\")\n",
        "\n",
        "        total_medalhas = numero_medalha_ouro + numero_medalha_prata + numero_medalha_bronze\n",
        "        medalhas[nome_pais] = total_medalhas\n",
        "\n",
        "print('Ranking de medalhas:')\n",
        "ranking = sorted(medalhas.items(), key=lambda item: item[1], reverse=True)\n",
        "\n",
        "for pais, total in ranking:\n",
        "    print(f'{pais}: {total} medalhas')"
      ],
      "metadata": {
        "colab": {
          "base_uri": "https://localhost:8080/"
        },
        "id": "Xy2ogZVE6gfC",
        "outputId": "fb5e5948-9df4-4ec0-e526-0c128ca138d0"
      },
      "execution_count": 21,
      "outputs": [
        {
          "output_type": "stream",
          "name": "stdout",
          "text": [
            "Insira o nome do país ou \"sair\" para encerrar: DSA\n",
            "Quantas medalhas de ouro? DAS\n",
            "Por favor, insira um número inteiro válido.\n",
            "Quantas medalhas de ouro? 1\n",
            "Quantas medalhas de prata? 5\n",
            "Quantas medalhas de bronze? 5\n",
            "Insira o nome do país ou \"sair\" para encerrar: SAIR\n",
            "Ranking de medalhas:\n",
            "DSA: 11 medalhas\n"
          ]
        }
      ]
    }
  ]
}