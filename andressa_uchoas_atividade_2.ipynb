{
  "nbformat": 4,
  "nbformat_minor": 0,
  "metadata": {
    "colab": {
      "provenance": [],
      "authorship_tag": "ABX9TyP27bqkM/sB7k3zGAVS6aNB",
      "include_colab_link": true
    },
    "kernelspec": {
      "name": "python3",
      "display_name": "Python 3"
    },
    "language_info": {
      "name": "python"
    }
  },
  "cells": [
    {
      "cell_type": "markdown",
      "metadata": {
        "id": "view-in-github",
        "colab_type": "text"
      },
      "source": [
        "<a href=\"https://colab.research.google.com/github/andressa-uchoas/pretalab/blob/main/andressa_uchoas_atividade_2.ipynb\" target=\"_parent\"><img src=\"https://colab.research.google.com/assets/colab-badge.svg\" alt=\"Open In Colab\"/></a>"
      ]
    },
    {
      "cell_type": "code",
      "source": [],
      "metadata": {
        "id": "rVM-RiooDxlW"
      },
      "execution_count": null,
      "outputs": []
    },
    {
      "cell_type": "markdown",
      "source": [
        "Projeto 2: Banco de Dados"
      ],
      "metadata": {
        "id": "REw8-mr2Vqlx"
      }
    },
    {
      "cell_type": "markdown",
      "source": [
        "Objetivo: Entender a jornada do cliente desde a navegação no site até a reserva e sua experiência final.\n",
        "\n",
        "Executar:\n",
        "\n",
        "1. Inserir os dados dos arquivos csv em um banco de dados SQLite.\n",
        "\n",
        "2. Realizar de consultas para responder às perguntas de análise.\n",
        "\n",
        "3. Salvar as consultas como tabela no banco de dados\n",
        "\n",
        "Responder:\n",
        "\n",
        "1. Qual o tempo médio que os clientes gastam no site antes de fazer uma reserva?\n",
        "\n",
        "2. Qual o percentual de clientes que realizam reservas após a navegação?\n",
        "\n",
        "3. Existe alguma correlação entre o tempo gasto no site e a avaliação dada?"
      ],
      "metadata": {
        "id": "S_bsMfTzV1A2"
      }
    },
    {
      "cell_type": "code",
      "source": [
        "# Importar bibliotecas\n",
        "import pandas as pd\n",
        "import sqlite3"
      ],
      "metadata": {
        "id": "6NXEtod-V8Wa"
      },
      "execution_count": 173,
      "outputs": []
    },
    {
      "cell_type": "code",
      "source": [
        "# Conectar ao banco de dados\n",
        "conn = sqlite3.connect('my_db.db')"
      ],
      "metadata": {
        "id": "TtQFSUibCIhZ"
      },
      "execution_count": 198,
      "outputs": []
    },
    {
      "cell_type": "code",
      "source": [
        "# Criar um cursor para executar comandos SQL\n",
        "cursor = conn.cursor()"
      ],
      "metadata": {
        "id": "cmGEwte4yIfy"
      },
      "execution_count": 199,
      "outputs": []
    },
    {
      "cell_type": "code",
      "source": [
        "# Criar tabelas\n",
        "#id_cliente\tnome\temail\tidade\tgenero\n",
        "cursor.execute('''\n",
        "CREATE TABLE cliente (\n",
        "    id_cliente INTEGER PRIMARY KEY AUTOINCREMENT,\n",
        "    nome TEXT,\n",
        "    email TEXT,\n",
        "    idade INTEGER,\n",
        "    genero TEXT\n",
        ")\n",
        "''')\n",
        "\n",
        "#id_navegacao\tid_cliente\tpagina\ttempo_gasto\tdata_acesso\n",
        "cursor.execute('''\n",
        "CREATE TABLE navegacao (\n",
        "    id_navegacao INTEGER PRIMARY KEY AUTOINCREMENT,\n",
        "    id_cliente INTEGER,\n",
        "    pagina TEXT,\n",
        "    tempo_gasto INTEGER,\n",
        "    data_acesso DATE\n",
        ")\n",
        "''')\n",
        "\n",
        "#id_avaliacao\tid_cliente\tnota\tcomentario\n",
        "cursor.execute('''\n",
        "CREATE TABLE avaliacao (\n",
        "    id_avaliacao INTEGER PRIMARY KEY AUTOINCREMENT,\n",
        "    id_cliente INTEGER,\n",
        "    nota REAL,\n",
        "    comentario TEXT\n",
        ")\n",
        "''')\n",
        "\n",
        "#id_reserva\tid_cliente\tdata_checkin\tdata_checkout\tvalor_total\n",
        "cursor.execute('''\n",
        "CREATE TABLE reserva (\n",
        "    id_reserva INTEGER PRIMARY KEY AUTOINCREMENT,\n",
        "    id_cliente INTEGER,\n",
        "    data_checkin DATE,\n",
        "    data_checkout DATE,\n",
        "    valor_total REAL\n",
        ")\n",
        "''')"
      ],
      "metadata": {
        "colab": {
          "base_uri": "https://localhost:8080/"
        },
        "collapsed": true,
        "id": "UdGcVOO2ZzKp",
        "outputId": "5e3a621a-dacf-4d28-d760-3b544d5d3c81"
      },
      "execution_count": 176,
      "outputs": [
        {
          "output_type": "execute_result",
          "data": {
            "text/plain": [
              "<sqlite3.Cursor at 0x7de26c50c7c0>"
            ]
          },
          "metadata": {},
          "execution_count": 176
        }
      ]
    },
    {
      "cell_type": "code",
      "source": [
        "# Exibir as tabelas existentes\n",
        "cursor.execute(\"select name from sqlite_master where type='table';\")\n",
        "tabelas = cursor.fetchall()\n",
        "print(tabelas)"
      ],
      "metadata": {
        "colab": {
          "base_uri": "https://localhost:8080/"
        },
        "id": "3XUsr-B7YwW3",
        "outputId": "8c0195e0-6994-4f83-a845-58e63f63e371"
      },
      "execution_count": 177,
      "outputs": [
        {
          "output_type": "stream",
          "name": "stdout",
          "text": [
            "[('sqlite_sequence',), ('cliente',), ('navegacao',), ('avaliacao',), ('reserva',)]\n"
          ]
        }
      ]
    },
    {
      "cell_type": "code",
      "source": [
        "# Se necessário, deletar as tabelas existentes\n",
        "#cursor.execute('DROP TABLE IF EXISTS cliente')\n",
        "#cursor.execute('DROP TABLE IF EXISTS navegacao')\n",
        "#cursor.execute('DROP TABLE IF EXISTS avaliacao')\n",
        "#cursor.execute('DROP TABLE IF EXISTS reserva')"
      ],
      "metadata": {
        "id": "srabBBGrkkwo"
      },
      "execution_count": 190,
      "outputs": []
    },
    {
      "cell_type": "code",
      "source": [
        "# Importar os dados para as tabelas criadas\n",
        "\n",
        "base_cliente = pd.read_csv('/content/clientes.csv', delimiter=',',header=0, )\n",
        "base_navegacao = pd.read_csv('/content/navegacao.csv', delimiter=',',header=0, )\n",
        "base_avaliacao = pd.read_csv('/content/avaliacoes.csv', delimiter=',',header=0, )\n",
        "base_reserva = pd.read_csv('/content/reservas.csv', delimiter=',',header=0, )"
      ],
      "metadata": {
        "id": "Xwl5hCnwZ0qg"
      },
      "execution_count": 179,
      "outputs": []
    },
    {
      "cell_type": "code",
      "source": [
        "# Inserir os dados nas tabelas\n",
        "\n",
        "base_cliente.to_sql('cliente', conn, if_exists='replace', index=False)\n",
        "base_navegacao.to_sql('navegacao', conn, if_exists='replace', index=False)\n",
        "base_avaliacao.to_sql('avaliacao', conn, if_exists='replace', index=False)\n",
        "base_reserva.to_sql('reserva', conn, if_exists='replace', index=False)\n",
        "\n",
        "base_navegacao['data_acesso'] = pd.to_datetime(base_navegacao['data_acesso'])\n",
        "base_reserva[['data_checkin', 'data_checkout']] = base_reserva[['data_checkin', 'data_checkout']].apply(pd.to_datetime)"
      ],
      "metadata": {
        "id": "EYZWsKOulNiL"
      },
      "execution_count": 180,
      "outputs": []
    },
    {
      "cell_type": "markdown",
      "source": [
        "Qual o tempo médio que os clientes gastam no site antes de fazer uma reserva?"
      ],
      "metadata": {
        "id": "cK-Id5huD23_"
      }
    },
    {
      "cell_type": "code",
      "source": [
        "cursor.execute('''\n",
        "\n",
        "select\n",
        "\n",
        "round(avg(n.tempo_gasto),0) as avg_before_checkin\n",
        "\n",
        "from navegacao n\n",
        "left join reserva r on r.id_cliente = n.id_cliente\n",
        "where date(r.data_checkin) > date(n.data_acesso)\n",
        "''')\n",
        "\n",
        "resultados = cursor.fetchall()\n",
        "for resultado in resultados:\n",
        "    dias = resultado[0]\n",
        "    print(f\"O tempo médio antes da reserva é de {int(dias)} dias.\")"
      ],
      "metadata": {
        "colab": {
          "base_uri": "https://localhost:8080/"
        },
        "collapsed": true,
        "id": "lduRJC3mobRt",
        "outputId": "e29977c0-9096-437e-d6e8-36b55139a7bf"
      },
      "execution_count": 193,
      "outputs": [
        {
          "output_type": "stream",
          "name": "stdout",
          "text": [
            "O tempo médio antes da reserva é de 60 dias.\n"
          ]
        }
      ]
    },
    {
      "cell_type": "markdown",
      "source": [
        "Qual o percentual de clientes que realizam reservas após a navegação?"
      ],
      "metadata": {
        "id": "V_2edK04D8xg"
      }
    },
    {
      "cell_type": "code",
      "source": [
        "cursor.execute ('''\n",
        "\n",
        "select\n",
        "\n",
        "count(distinct r.id_cliente)*100/count(distinct n.id_cliente) as percent_client\n",
        "\n",
        "from navegacao n\n",
        "left join reserva r on r.id_cliente = n.id_cliente\n",
        "''')\n",
        "\n",
        "resposta = cursor.fetchall()\n",
        "\n",
        "for resultado in resposta:\n",
        "    percentual = resultado[0]  # Aqui pegamos o valor do percentual\n",
        "    print(f\"{int(percentual)}% de clientes realizam reservas após a navegação.\")\n"
      ],
      "metadata": {
        "colab": {
          "base_uri": "https://localhost:8080/"
        },
        "id": "Bfj9-Nzv82hn",
        "outputId": "e753eef8-5ed7-4ac1-a52c-4d1b06589d01"
      },
      "execution_count": 182,
      "outputs": [
        {
          "output_type": "stream",
          "name": "stdout",
          "text": [
            "62% de clientes realizam reservas após a navegação.\n"
          ]
        }
      ]
    },
    {
      "cell_type": "markdown",
      "source": [
        "Existe alguma correlação entre o tempo gasto no site e a avaliação dada?"
      ],
      "metadata": {
        "id": "6RWy1jYqD_Ka"
      }
    },
    {
      "cell_type": "code",
      "source": [
        "cursor.execute ('''\n",
        "\n",
        "select\n",
        "\n",
        "c.id_cliente\n",
        ",n.tempo_gasto\n",
        ",a.nota\n",
        "\n",
        "from cliente c\n",
        "left join navegacao n on n.id_cliente = c.id_cliente\n",
        "left join avaliacao a on a.id_cliente = c.id_cliente\n",
        "''')\n",
        "\n",
        "resultados = cursor.fetchall()\n",
        "colunas = [desc[0] for desc in cursor.description]\n",
        "df = pd.DataFrame(resultados, columns=colunas)\n",
        "correlacao = df['tempo_gasto'].corr(df['nota'])\n",
        "print(f\"A correlação entre tempo gasto no site e avaliação é: {correlacao:.2f}.\")"
      ],
      "metadata": {
        "colab": {
          "base_uri": "https://localhost:8080/"
        },
        "id": "bF4H9gEf_BVZ",
        "outputId": "84ccedd4-e582-4f31-8eaf-e9593833652e"
      },
      "execution_count": 200,
      "outputs": [
        {
          "output_type": "stream",
          "name": "stdout",
          "text": [
            "A correlação entre tempo gasto no site e avaliação é: 0.02.\n"
          ]
        }
      ]
    },
    {
      "cell_type": "code",
      "source": [
        "# Confirmar as alterações no bando de dados\n",
        "conn.commit()"
      ],
      "metadata": {
        "id": "tlj_pitSCP-I"
      },
      "execution_count": 194,
      "outputs": []
    },
    {
      "cell_type": "code",
      "source": [
        "# Fechar a conexão após terminar todas as operações no banco de dados\n",
        "conn.close()"
      ],
      "metadata": {
        "id": "zKF2CNXrCQbQ"
      },
      "execution_count": 195,
      "outputs": []
    }
  ]
}